{
 "cells": [
  {
   "cell_type": "markdown",
   "metadata": {},
   "source": [
    "## 注意\n",
    "请修改 **`data`** 为数据集所在的 **相对目录/绝对目录** ，`train`、`val` 和 `testA`、`testB`均在`data`目录下"
   ]
  },
  {
   "cell_type": "code",
   "execution_count": 1,
   "id": "5d9b70ba-f653-4553-a0c1-a6db5da8a7c1",
   "metadata": {},
   "outputs": [],
   "source": [
    "import shutil\n",
    "from pathlib import Path\n",
    "from PIL import Image\n",
    "from tqdm.notebook import tqdm\n",
    "\n",
    "data = Path('./landscape')"
   ]
  },
  {
   "cell_type": "code",
   "execution_count": 2,
   "id": "7d74a271-aaf3-41ef-9237-7bf17e28ca00",
   "metadata": {},
   "outputs": [
    {
     "data": {
      "application/vnd.jupyter.widget-view+json": {
       "model_id": "d3e40d3c95d0448ea710500dc76e2443",
       "version_major": 2,
       "version_minor": 0
      },
      "text/plain": [
       "0it [00:00, ?it/s]"
      ]
     },
     "metadata": {},
     "output_type": "display_data"
    },
    {
     "name": "stderr",
     "output_type": "stream",
     "text": [
      "/tmp/ipykernel_53881/3829309803.py:28: DeprecationWarning: BICUBIC is deprecated and will be removed in Pillow 10 (2023-07-01). Use Resampling.BICUBIC instead.\n",
      "  img_lr = img_hr.resize((w//2, h//2), Image.BICUBIC)\n"
     ]
    },
    {
     "data": {
      "application/vnd.jupyter.widget-view+json": {
       "model_id": "c00ac89625a1476eac406c2bd86c9eff",
       "version_major": 2,
       "version_minor": 0
      },
      "text/plain": [
       "0it [00:00, ?it/s]"
      ]
     },
     "metadata": {},
     "output_type": "display_data"
    },
    {
     "name": "stderr",
     "output_type": "stream",
     "text": [
      "/tmp/ipykernel_53881/3829309803.py:42: DeprecationWarning: BICUBIC is deprecated and will be removed in Pillow 10 (2023-07-01). Use Resampling.BICUBIC instead.\n",
      "  img_lr = img_hr.resize((w//2, h//2), Image.BICUBIC)\n"
     ]
    }
   ],
   "source": [
    "######################\n",
    "#### 先处理 训练集 ####\n",
    "######################\n",
    "\n",
    "dataroot = data / \"train\"\n",
    "imgs_hr = dataroot/ \"imgs\"\n",
    "imgs_lr = dataroot / \"imgs_lr\"\n",
    "imgs_lr_256 = dataroot / \"imgs_lr_256\"\n",
    "\n",
    "if imgs_lr.exists():\n",
    "    shutil.rmtree(imgs_lr)\n",
    "imgs_lr.mkdir()\n",
    "\n",
    "if imgs_lr_256.exists():\n",
    "    shutil.rmtree(imgs_lr_256)\n",
    "imgs_lr_256.mkdir()\n",
    "\n",
    "\n",
    "# ---------------------------------------\n",
    "# 1024 ---> 512\n",
    "# ---------------------------------------\n",
    "\n",
    "# 对于每张图片（768*1024），缩放到原来的1/2*1/2（384*512）\n",
    "# bicubic\n",
    "for img_hr_name in tqdm(imgs_hr.iterdir()):\n",
    "    img_lr_name = imgs_lr / img_hr_name.name\n",
    "    img_hr = Image.open(img_hr_name)\n",
    "    w,h = img_hr.size\n",
    "    img_lr = img_hr.resize((w//2, h//2), Image.BICUBIC)\n",
    "    img_lr.save(img_lr_name)\n",
    "\n",
    "\n",
    "# ---------------------------------------\n",
    "# 512 ---> 256\n",
    "# ---------------------------------------\n",
    "\n",
    "# 对于每张图片（384*512），缩放到原来的1/2*1/2（192*256）\n",
    "# bicubic\n",
    "for img_hr_name in tqdm(imgs_lr.iterdir()):\n",
    "    img_lr_name = imgs_lr_256 / img_hr_name.name\n",
    "    img_hr = Image.open(img_hr_name)\n",
    "    w,h = img_hr.size\n",
    "    img_lr = img_hr.resize((w//2, h//2), Image.BICUBIC)\n",
    "    img_lr.save(img_lr_name)"
   ]
  },
  {
   "cell_type": "code",
   "execution_count": 2,
   "id": "1c84a401",
   "metadata": {},
   "outputs": [
    {
     "data": {
      "application/vnd.jupyter.widget-view+json": {
       "model_id": "2eaad76f6d1045de96fbe0b4b671750c",
       "version_major": 2,
       "version_minor": 0
      },
      "text/plain": [
       "0it [00:00, ?it/s]"
      ]
     },
     "metadata": {},
     "output_type": "display_data"
    },
    {
     "name": "stderr",
     "output_type": "stream",
     "text": [
      "/tmp/ipykernel_96928/3342480616.py:30: DeprecationWarning: BICUBIC is deprecated and will be removed in Pillow 10 (2023-07-01). Use Resampling.BICUBIC instead.\n",
      "  img_lr = img_hr.resize((w//2, h//2), Image.BICUBIC)\n"
     ]
    },
    {
     "data": {
      "application/vnd.jupyter.widget-view+json": {
       "model_id": "f7f8f943aa9a40ab87d9225c13dff439",
       "version_major": 2,
       "version_minor": 0
      },
      "text/plain": [
       "0it [00:00, ?it/s]"
      ]
     },
     "metadata": {},
     "output_type": "display_data"
    },
    {
     "name": "stderr",
     "output_type": "stream",
     "text": [
      "/tmp/ipykernel_96928/3342480616.py:43: DeprecationWarning: BICUBIC is deprecated and will be removed in Pillow 10 (2023-07-01). Use Resampling.BICUBIC instead.\n",
      "  img_lr = img_hr.resize((w//2, h//2), Image.BICUBIC)\n"
     ]
    }
   ],
   "source": [
    "######################\n",
    "#### 先处理 验证集 ####\n",
    "######################\n",
    "\n",
    "dataroot = data / \"val\"\n",
    "imgs_hr = dataroot/ \"imgs\"\n",
    "imgs_lr = dataroot / \"imgs_lr\"\n",
    "imgs_lr_256 = dataroot / \"imgs_lr_256\"\n",
    "\n",
    "\n",
    "if imgs_lr.exists():\n",
    "    shutil.rmtree(imgs_lr)\n",
    "imgs_lr.mkdir()\n",
    "\n",
    "if imgs_lr_256.exists():\n",
    "    shutil.rmtree(imgs_lr_256)\n",
    "imgs_lr_256.mkdir()\n",
    "\n",
    "\n",
    "# ---------------------------------------\n",
    "# 1024 ---> 512\n",
    "# ---------------------------------------\n",
    "\n",
    "# 对于每张图片（768*1024），缩放到原来的1/2*1/2（384*512）\n",
    "# bicubic\n",
    "for img_hr_name in tqdm(imgs_hr.iterdir()):\n",
    "    img_lr_name = imgs_lr / img_hr_name.name\n",
    "    img_hr = Image.open(img_hr_name)\n",
    "    w,h = img_hr.size\n",
    "    img_lr = img_hr.resize((w//2, h//2), Image.BICUBIC)\n",
    "    img_lr.save(img_lr_name)\n",
    "\n",
    "# ---------------------------------------\n",
    "# 512 ---> 256\n",
    "# ---------------------------------------\n",
    "\n",
    "# 对于每张图片（384*512），缩放到原来的1/2*1/2（192*256）\n",
    "# bicubic\n",
    "for img_hr_name in tqdm(imgs_lr.iterdir()):\n",
    "    img_lr_name = imgs_lr_256 / img_hr_name.name\n",
    "    img_hr = Image.open(img_hr_name)\n",
    "    w,h = img_hr.size\n",
    "    img_lr = img_hr.resize((w//2, h//2), Image.BICUBIC)\n",
    "    img_lr.save(img_lr_name)"
   ]
  }
 ],
 "metadata": {
  "kernelspec": {
   "display_name": "Python 3.8.10 ('base')",
   "language": "python",
   "name": "python3"
  },
  "language_info": {
   "codemirror_mode": {
    "name": "ipython",
    "version": 3
   },
   "file_extension": ".py",
   "mimetype": "text/x-python",
   "name": "python",
   "nbconvert_exporter": "python",
   "pygments_lexer": "ipython3",
   "version": "3.8.10"
  },
  "vscode": {
   "interpreter": {
    "hash": "2f394aca7ca06fed1e6064aef884364492d7cdda3614a461e02e6407fc40ba69"
   }
  }
 },
 "nbformat": 4,
 "nbformat_minor": 5
}
